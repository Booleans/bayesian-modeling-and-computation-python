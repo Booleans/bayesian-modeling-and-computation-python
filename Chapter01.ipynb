{
 "cells": [
  {
   "cell_type": "markdown",
   "id": "b8c0c799-65a2-4626-8cc5-1a52d834fc75",
   "metadata": {},
   "source": [
    "# Chapter 1"
   ]
  },
  {
   "cell_type": "code",
   "execution_count": 2,
   "id": "94b324e8-5f53-47dd-b0dd-fe3806b74255",
   "metadata": {},
   "outputs": [],
   "source": [
    "from scipy import stats\n",
    "import numpy as np"
   ]
  },
  {
   "cell_type": "markdown",
   "id": "5ee14ac2-ba0c-47ae-b82f-d37b65b077b6",
   "metadata": {},
   "source": [
    "Code 1.1"
   ]
  },
  {
   "cell_type": "code",
   "execution_count": 3,
   "id": "c3367d8b-7ccb-49b5-8ad9-5195e4706b7e",
   "metadata": {},
   "outputs": [],
   "source": [
    "def post(theta, Y, alpha=1, beta=1):\n",
    "    if 0 <= theta <= 1:\n",
    "        prior = stats.beta(alpha, beta).pdf(theta)\n",
    "        likelihood = stats.bernoulli(theta).pmf(Y).prod()\n",
    "        prob = likelihood * prior\n",
    "    else:\n",
    "        prob = -np.inf\n",
    "    return prob"
   ]
  },
  {
   "cell_type": "markdown",
   "id": "0d0c5350-bebd-41cd-8fe3-feab279a1201",
   "metadata": {},
   "source": [
    "Code 1.2"
   ]
  },
  {
   "cell_type": "code",
   "execution_count": 9,
   "id": "867e2839-beaa-4258-8d97-419de4dae2bb",
   "metadata": {},
   "outputs": [
    {
     "data": {
      "text/plain": [
       "array([0, 1, 1, 0, 0, 1, 1, 0, 1, 0, 0, 0, 0, 0, 0, 1, 1, 1, 1, 1])"
      ]
     },
     "execution_count": 9,
     "metadata": {},
     "output_type": "execute_result"
    }
   ],
   "source": [
    "Y = stats.bernoulli(0.7).rvs(20)\n",
    "Y"
   ]
  },
  {
   "cell_type": "code",
   "execution_count": 10,
   "id": "7c6d0357",
   "metadata": {},
   "outputs": [],
   "source": [
    "n_iters = 1000\n",
    "can_sd = 0.05\n",
    "alpha = 1\n",
    "beta = 1\n",
    "theta = 0.5\n",
    "Y = np.random.randint(0, 2, size=10)\n",
    "trace = {'𝜃':np.zeros(n_iters)}\n",
    "p2 = post(theta, Y, alpha, beta)\n",
    "\n",
    "for i in range(n_iters):\n",
    "    "
   ]
  },
  {
   "cell_type": "code",
   "execution_count": null,
   "id": "ef40bb44",
   "metadata": {},
   "outputs": [],
   "source": []
  }
 ],
 "metadata": {
  "interpreter": {
   "hash": "a91bc8a063c3c2ea66956a02b877c5d73840bc36afc8b1449b0f86f6d67fc53a"
  },
  "kernelspec": {
   "display_name": "Python 3.9.7 64-bit",
   "language": "python",
   "name": "python397jvsc74a57bd0a91bc8a063c3c2ea66956a02b877c5d73840bc36afc8b1449b0f86f6d67fc53a"
  },
  "language_info": {
   "codemirror_mode": {
    "name": "ipython",
    "version": 3
   },
   "file_extension": ".py",
   "mimetype": "text/x-python",
   "name": "python",
   "nbconvert_exporter": "python",
   "pygments_lexer": "ipython3",
   "version": "3.9.7"
  }
 },
 "nbformat": 4,
 "nbformat_minor": 5
}
